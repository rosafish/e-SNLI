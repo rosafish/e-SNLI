{
 "cells": [
  {
   "cell_type": "markdown",
   "metadata": {},
   "source": [
    "### Computing inter-annotator bleu scores of the gold explanations (with Oana's preprocessing of the data)"
   ]
  },
  {
   "cell_type": "code",
   "execution_count": 18,
   "metadata": {},
   "outputs": [],
   "source": [
    "from nltk.translate.bleu_score import corpus_bleu"
   ]
  },
  {
   "cell_type": "code",
   "execution_count": 26,
   "metadata": {},
   "outputs": [],
   "source": [
    "def bleu_inter_annotations_expl3_wrt_12(data):\n",
    "    candidates = []\n",
    "    references = []\n",
    "    \n",
    "    #len(data['expl_1']) #9842\n",
    "    #data['expl_3'] == candidates --> True\n",
    "\n",
    "    for k in range(len(data['expl_1'])):\n",
    "        candidates.append(data['expl_3'][k])\n",
    "        current_refs = []\n",
    "        for j in range(1, 3):\n",
    "            current_refs.append(data['expl_' + str(j)][k])\n",
    "        references.append(current_refs)\n",
    "        \n",
    "    print('candidates[0]: ', candidates[0])\n",
    "    \n",
    "    bleu_score = 100 * corpus_bleu(references, candidates)\n",
    "    print('bleu: ', bleu_score)\n",
    "    return round(bleu_score, 2)"
   ]
  },
  {
   "cell_type": "code",
   "execution_count": 27,
   "metadata": {},
   "outputs": [],
   "source": [
    "import sys\n",
    "sys.path.append('./attention/')\n",
    "from data_attention_bottom import get_dev_test_original_expl\n",
    "\n",
    "#snli_dev_no_unk \n",
    "esnli_path = './'\n",
    "dev = get_dev_test_original_expl(esnli_path, 'dev')"
   ]
  },
  {
   "cell_type": "code",
   "execution_count": 28,
   "metadata": {},
   "outputs": [
    {
     "name": "stdout",
     "output_type": "stream",
     "text": [
      "candidates[0]:  Two women do not have to be sisters.  Embracing does not mean hugging goodbye.  The women do not have to have just finished lunch to be embracing.\n",
      "bleu:  60.342622770000155\n"
     ]
    },
    {
     "data": {
      "text/plain": [
       "60.34"
      ]
     },
     "execution_count": 28,
     "metadata": {},
     "output_type": "execute_result"
    }
   ],
   "source": [
    "bleu_inter_annotations_expl3_wrt_12(dev)"
   ]
  },
  {
   "cell_type": "code",
   "execution_count": null,
   "metadata": {},
   "outputs": [],
   "source": []
  }
 ],
 "metadata": {
  "kernelspec": {
   "display_name": "Python [conda env:rosa] *",
   "language": "python",
   "name": "conda-env-rosa-py"
  },
  "language_info": {
   "codemirror_mode": {
    "name": "ipython",
    "version": 3
   },
   "file_extension": ".py",
   "mimetype": "text/x-python",
   "name": "python",
   "nbconvert_exporter": "python",
   "pygments_lexer": "ipython3",
   "version": "3.7.3"
  }
 },
 "nbformat": 4,
 "nbformat_minor": 4
}
