{
 "cells": [
  {
   "cell_type": "markdown",
   "metadata": {},
   "source": [
    "### Computing bleu scores Oana's generated explanations (using Oana's processed esnli data as references)"
   ]
  },
  {
   "cell_type": "code",
   "execution_count": 1,
   "metadata": {},
   "outputs": [],
   "source": [
    "from nltk.translate.bleu_score import corpus_bleu"
   ]
  },
  {
   "cell_type": "code",
   "execution_count": 2,
   "metadata": {},
   "outputs": [],
   "source": [
    "import csv"
   ]
  },
  {
   "cell_type": "code",
   "execution_count": null,
   "metadata": {},
   "outputs": [],
   "source": [
    "oana_generated_expl = '../attention/snli_test_expl_csv.csv'"
   ]
  },
  {
   "cell_type": "code",
   "execution_count": null,
   "metadata": {},
   "outputs": [],
   "source": [
    "with open(oana_generated_expl, newline='') as f:\n",
    "    reader = csv.reader(f)\n",
    "    for (i, line) in enumerate(reader):\n",
    "        if i == 0:\n",
    "            continue\n",
    "        if i > 4:\n",
    "            break\n",
    "        pred_expl = line[4]\n",
    "        gold_expl_1 = line[5]\n",
    "        gold_expl_2 = line[6]\n",
    "        gold_expl_3 = line[7]"
   ]
  },
  {
   "cell_type": "code",
   "execution_count": 3,
   "metadata": {},
   "outputs": [],
   "source": [
    "import sys\n",
    "sys.path.append('../attention/')"
   ]
  },
  {
   "cell_type": "code",
   "execution_count": null,
   "metadata": {},
   "outputs": [],
   "source": [
    "from data_attention_bottom import get_dev_test_original_expl"
   ]
  },
  {
   "cell_type": "code",
   "execution_count": null,
   "metadata": {},
   "outputs": [],
   "source": [
    "snli_test_no_unk = get_dev_test_original_expl('/data/rosa/data/esnli/', 'test')"
   ]
  },
  {
   "cell_type": "code",
   "execution_count": null,
   "metadata": {},
   "outputs": [],
   "source": [
    "snli_test_no_unk.keys()"
   ]
  },
  {
   "cell_type": "code",
   "execution_count": null,
   "metadata": {},
   "outputs": [],
   "source": [
    "print(len(snli_test_no_unk['expl_1']))\n",
    "print(len(snli_test_no_unk['expl_2']))\n",
    "print(len(snli_test_no_unk['expl_3']))"
   ]
  },
  {
   "cell_type": "code",
   "execution_count": null,
   "metadata": {},
   "outputs": [],
   "source": [
    "print(snli_test_no_unk['expl_1'][0])\n",
    "print(snli_test_no_unk['expl_2'][0])\n",
    "print(snli_test_no_unk['expl_3'][0])"
   ]
  },
  {
   "cell_type": "code",
   "execution_count": 4,
   "metadata": {},
   "outputs": [],
   "source": [
    "from nltk.tokenize import word_tokenize\n",
    "from nltk.translate.bleu_score import sentence_bleu, corpus_bleu\n",
    "from statistics import mean"
   ]
  },
  {
   "cell_type": "code",
   "execution_count": null,
   "metadata": {},
   "outputs": [],
   "source": [
    "bleu_scores = []\n",
    "with open(oana_generated_expl, newline='') as f:\n",
    "    reader = csv.reader(f)\n",
    "    for (i, line) in enumerate(reader):\n",
    "        if i == 0:\n",
    "            continue\n",
    "        \n",
    "        pred_expl = word_tokenize(line[4])\n",
    "        gold_expl_1 = word_tokenize(snli_test_no_unk['expl_1'][i-1])\n",
    "        gold_expl_2 = word_tokenize(snli_test_no_unk['expl_2'][i-1])\n",
    "        gold_expl_3 = word_tokenize(snli_test_no_unk['expl_3'][i-1])\n",
    "\n",
    "#         print(pred_expl)\n",
    "#         print(gold_expl_1)\n",
    "#         print(gold_expl_2)\n",
    "#         print(gold_expl_3)\n",
    "        \n",
    "        bleu_scores.append(corpus_bleu([[gold_expl_1, gold_expl_2, gold_expl_3]], [pred_expl]))"
   ]
  },
  {
   "cell_type": "code",
   "execution_count": null,
   "metadata": {},
   "outputs": [],
   "source": [
    "print(mean(bleu_scores))"
   ]
  },
  {
   "cell_type": "markdown",
   "metadata": {},
   "source": [
    "### Not use Oana's processed data as references"
   ]
  },
  {
   "cell_type": "code",
   "execution_count": null,
   "metadata": {},
   "outputs": [],
   "source": [
    "oana_generated_expl_list = []\n",
    "with open(oana_generated_expl, newline='') as f:\n",
    "    reader = csv.reader(f)\n",
    "    for (i, line) in enumerate(reader):\n",
    "        if i == 0:\n",
    "            continue\n",
    "        pred_expl = line[4]\n",
    "        oana_generated_expl_list.append(pred_expl)"
   ]
  },
  {
   "cell_type": "code",
   "execution_count": null,
   "metadata": {},
   "outputs": [],
   "source": [
    "bleu_scores = []\n",
    "with open('/data/rosa/data/esnli/esnli_test.csv', newline='') as f:\n",
    "    reader = csv.reader(f)\n",
    "    for (i, line) in enumerate(reader):\n",
    "        if i == 0:\n",
    "            continue\n",
    "        gold_expl_1 = word_tokenize(line[4])\n",
    "        gold_expl_2 = word_tokenize(line[9])\n",
    "        gold_expl_3 = word_tokenize(line[14])\n",
    "        pred_expl = word_tokenize(oana_generated_expl_list[i-1])\n",
    "\n",
    "        bleu_scores.append(corpus_bleu([[gold_expl_1, gold_expl_2, gold_expl_3]], [pred_expl]))"
   ]
  },
  {
   "cell_type": "code",
   "execution_count": null,
   "metadata": {},
   "outputs": [],
   "source": [
    "print(mean(bleu_scores))"
   ]
  },
  {
   "cell_type": "markdown",
   "metadata": {},
   "source": [
    "### Not use Oana's method; gold expl bleu"
   ]
  },
  {
   "cell_type": "code",
   "execution_count": 5,
   "metadata": {},
   "outputs": [
    {
     "name": "stderr",
     "output_type": "stream",
     "text": [
      "/data/anaconda3/envs/rosa/lib/python3.7/site-packages/nltk/translate/bleu_score.py:523: UserWarning: \n",
      "The hypothesis contains 0 counts of 3-gram overlaps.\n",
      "Therefore the BLEU score evaluates to 0, independently of\n",
      "how many N-gram overlaps of lower order it contains.\n",
      "Consider using lower n-gram order or use SmoothingFunction()\n",
      "  warnings.warn(_msg)\n",
      "/data/anaconda3/envs/rosa/lib/python3.7/site-packages/nltk/translate/bleu_score.py:523: UserWarning: \n",
      "The hypothesis contains 0 counts of 4-gram overlaps.\n",
      "Therefore the BLEU score evaluates to 0, independently of\n",
      "how many N-gram overlaps of lower order it contains.\n",
      "Consider using lower n-gram order or use SmoothingFunction()\n",
      "  warnings.warn(_msg)\n",
      "/data/anaconda3/envs/rosa/lib/python3.7/site-packages/nltk/translate/bleu_score.py:523: UserWarning: \n",
      "The hypothesis contains 0 counts of 2-gram overlaps.\n",
      "Therefore the BLEU score evaluates to 0, independently of\n",
      "how many N-gram overlaps of lower order it contains.\n",
      "Consider using lower n-gram order or use SmoothingFunction()\n",
      "  warnings.warn(_msg)\n"
     ]
    }
   ],
   "source": [
    "# dev: ./sanity-checks/esnli_dev.csv\n",
    "# test: /data/rosa/data/esnli/esnli_test.csv\n",
    "bleu_scores_expl1 = []\n",
    "bleu_scores_expl2 = []\n",
    "bleu_scores_expl3 = []\n",
    "with open('/data/rosa/data/esnli/esnli_test.csv', newline='') as f:\n",
    "    reader = csv.reader(f)\n",
    "    for (i, line) in enumerate(reader):\n",
    "        if i == 0:\n",
    "            continue\n",
    "        gold_expl_1 = word_tokenize(line[4])\n",
    "        gold_expl_2 = word_tokenize(line[9])\n",
    "        gold_expl_3 = word_tokenize(line[14])\n",
    "\n",
    "        bleu_scores_expl1.append(corpus_bleu([[gold_expl_2, gold_expl_3]], [gold_expl_1]))\n",
    "        bleu_scores_expl2.append(corpus_bleu([[gold_expl_1, gold_expl_3]], [gold_expl_2]))\n",
    "        bleu_scores_expl3.append(corpus_bleu([[gold_expl_1, gold_expl_2]], [gold_expl_3]))"
   ]
  },
  {
   "cell_type": "code",
   "execution_count": 6,
   "metadata": {},
   "outputs": [
    {
     "name": "stdout",
     "output_type": "stream",
     "text": [
      "0.1318049540655917\n",
      "0.1324703801626844\n",
      "0.13323389916331937\n"
     ]
    }
   ],
   "source": [
    "print(mean(bleu_scores_expl1))\n",
    "print(mean(bleu_scores_expl2))\n",
    "print(mean(bleu_scores_expl3))"
   ]
  },
  {
   "cell_type": "code",
   "execution_count": null,
   "metadata": {},
   "outputs": [],
   "source": []
  }
 ],
 "metadata": {
  "kernelspec": {
   "display_name": "Python [conda env:rosa] *",
   "language": "python",
   "name": "conda-env-rosa-py"
  },
  "language_info": {
   "codemirror_mode": {
    "name": "ipython",
    "version": 3
   },
   "file_extension": ".py",
   "mimetype": "text/x-python",
   "name": "python",
   "nbconvert_exporter": "python",
   "pygments_lexer": "ipython3",
   "version": "3.7.3"
  }
 },
 "nbformat": 4,
 "nbformat_minor": 4
}
